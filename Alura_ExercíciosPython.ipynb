{
  "nbformat": 4,
  "nbformat_minor": 0,
  "metadata": {
    "colab": {
      "provenance": [],
      "authorship_tag": "ABX9TyNyvFq5PhFVEHDFh1vX7Lzt",
      "include_colab_link": true
    },
    "kernelspec": {
      "name": "python3",
      "display_name": "Python 3"
    },
    "language_info": {
      "name": "python"
    }
  },
  "cells": [
    {
      "cell_type": "markdown",
      "metadata": {
        "id": "view-in-github",
        "colab_type": "text"
      },
      "source": [
        "<a href=\"https://colab.research.google.com/github/rafaelafachine/DataScience/blob/main/Alura_Exerc%C3%ADciosPython.ipynb\" target=\"_parent\"><img src=\"https://colab.research.google.com/assets/colab-badge.svg\" alt=\"Open In Colab\"/></a>"
      ]
    },
    {
      "cell_type": "code",
      "execution_count": 1,
      "metadata": {
        "colab": {
          "base_uri": "https://localhost:8080/"
        },
        "id": "42g8JkAYIM_8",
        "outputId": "999b76fe-8c00-4f60-b93e-9341254dcc44"
      },
      "outputs": [
        {
          "output_type": "stream",
          "name": "stdout",
          "text": [
            "Olá Mundo!\n"
          ]
        }
      ],
      "source": [
        "print('Olá Mundo!')"
      ]
    },
    {
      "cell_type": "code",
      "source": [
        "print(10)"
      ],
      "metadata": {
        "colab": {
          "base_uri": "https://localhost:8080/"
        },
        "id": "KbnHYclGIzkK",
        "outputId": "1c90fe83-cd0f-4189-a1cb-cff5646c69b2"
      },
      "execution_count": 2,
      "outputs": [
        {
          "output_type": "stream",
          "name": "stdout",
          "text": [
            "10\n"
          ]
        }
      ]
    },
    {
      "cell_type": "code",
      "source": [
        "print('Rafaela',33)"
      ],
      "metadata": {
        "colab": {
          "base_uri": "https://localhost:8080/"
        },
        "id": "S4IUmcaqI9Js",
        "outputId": "5eebb0c6-8402-40a7-95d8-1c1a18305e87"
      },
      "execution_count": 3,
      "outputs": [
        {
          "output_type": "stream",
          "name": "stdout",
          "text": [
            "Rafaela 33\n"
          ]
        }
      ]
    },
    {
      "cell_type": "code",
      "source": [
        "print('Escola de Dados da Alura!')"
      ],
      "metadata": {
        "colab": {
          "base_uri": "https://localhost:8080/"
        },
        "id": "uq0sSu9RJhDj",
        "outputId": "ae017a89-c4db-468b-8f4d-e94b062c5c0b"
      },
      "execution_count": 4,
      "outputs": [
        {
          "output_type": "stream",
          "name": "stdout",
          "text": [
            "Escola de Dados da Alura!\n"
          ]
        }
      ]
    },
    {
      "cell_type": "code",
      "source": [
        "print('Nome: Rafaela')\n",
        "print('Sobrenome: Fachine')"
      ],
      "metadata": {
        "colab": {
          "base_uri": "https://localhost:8080/"
        },
        "id": "6Asl05VZJmhj",
        "outputId": "22c37719-a627-4c6d-a0ac-09f335f38803"
      },
      "execution_count": 8,
      "outputs": [
        {
          "output_type": "stream",
          "name": "stdout",
          "text": [
            "Nome: Rafaela\n",
            "Sobrenome: Fachine\n"
          ]
        }
      ]
    },
    {
      "cell_type": "markdown",
      "source": [
        "Exercício de Python: Recebemos uma tabela com informações de empregos quanto ao cargo, quantidade de pessoas empregadas e o salário correspondente"
      ],
      "metadata": {
        "id": "ZVyGHwkeJd-M"
      }
    },
    {
      "cell_type": "code",
      "source": [
        "q_seguranca = 5\n",
        "q_docentes = 16\n",
        "q_diretoria = 1"
      ],
      "metadata": {
        "id": "AvnR9d2RJXM1"
      },
      "execution_count": 1,
      "outputs": []
    },
    {
      "cell_type": "code",
      "source": [
        "s_seguranca = 3000\n",
        "s_docentes = 6000\n",
        "s_diretoria = 12500"
      ],
      "metadata": {
        "id": "Nc5sFrZPJ5Vt"
      },
      "execution_count": 2,
      "outputs": []
    },
    {
      "cell_type": "markdown",
      "source": [
        "Precisamos trabalhar com esses dados fornecendo:\n",
        "\n",
        "A quantidade total de empregados;\n",
        "A diferença entre o salário mais baixo e mais alto;\n",
        "A média ponderada da faixa salarial da escola."
      ],
      "metadata": {
        "id": "QwTFBjxSKDhV"
      }
    }
  ]
}